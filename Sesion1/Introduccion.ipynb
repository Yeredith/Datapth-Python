{
 "cells": [
  {
   "cell_type": "code",
   "execution_count": 2,
   "metadata": {},
   "outputs": [
    {
     "name": "stdout",
     "output_type": "stream",
     "text": [
      "Es falso\n"
     ]
    }
   ],
   "source": [
    "#Indentación\n",
    "variable = 5\n",
    "if variable == '5':\n",
    "    print(\"Es verdadero\")\n",
    "else:\n",
    "    print(\"Es falso\") "
   ]
  },
  {
   "cell_type": "code",
   "execution_count": 3,
   "metadata": {},
   "outputs": [
    {
     "name": "stdout",
     "output_type": "stream",
     "text": [
      "5 Datapath\n"
     ]
    }
   ],
   "source": [
    "#Variable \n",
    "a = 5\n",
    "b = \"Datapath\"\n",
    "\n",
    "print(a,b)"
   ]
  },
  {
   "cell_type": "code",
   "execution_count": 4,
   "metadata": {},
   "outputs": [
    {
     "name": "stdout",
     "output_type": "stream",
     "text": [
      "<class 'str'>\n"
     ]
    }
   ],
   "source": [
    "a = '2.0'\n",
    "print(type(a))"
   ]
  },
  {
   "cell_type": "code",
   "execution_count": 6,
   "metadata": {},
   "outputs": [
    {
     "name": "stdout",
     "output_type": "stream",
     "text": [
      "1 2 3\n"
     ]
    }
   ],
   "source": [
    "x,y,z = 1,2,3\n",
    "print(x,y,z)"
   ]
  },
  {
   "cell_type": "code",
   "execution_count": 7,
   "metadata": {},
   "outputs": [
    {
     "name": "stdout",
     "output_type": "stream",
     "text": [
      "Hola\n"
     ]
    }
   ],
   "source": [
    "x = 'Hola'\n",
    "def myfunct():\n",
    "    print(x)\n",
    "\n",
    "myfunct()"
   ]
  },
  {
   "cell_type": "code",
   "execution_count": 8,
   "metadata": {},
   "outputs": [
    {
     "name": "stdout",
     "output_type": "stream",
     "text": [
      "python\n",
      "Hola\n"
     ]
    }
   ],
   "source": [
    "def myfun2():\n",
    "    x = 'python'\n",
    "    print(x)\n",
    "\n",
    "myfun2()\n",
    "print(x)"
   ]
  },
  {
   "cell_type": "code",
   "execution_count": 9,
   "metadata": {},
   "outputs": [
    {
     "name": "stdout",
     "output_type": "stream",
     "text": [
      "[1, 4, ['python', 3, 4.3], 'datapath']\n"
     ]
    }
   ],
   "source": [
    "lista = []\n",
    "lista = [1,4,5,8]\n",
    "listas_mixtas = [3,'python', 4.2]\n",
    "lista_anidada = [1,4,['python',3,4.3],'datapath']\n",
    "print(lista_anidada)"
   ]
  },
  {
   "cell_type": "code",
   "execution_count": 10,
   "metadata": {},
   "outputs": [
    {
     "name": "stdout",
     "output_type": "stream",
     "text": [
      "2500\n"
     ]
    }
   ],
   "source": [
    "#Suma de numeros impares 1,100 (range(1,100))\n",
    "\n",
    "def sum_par():\n",
    "\n",
    "    im_num = [numeros for numeros in range(1,100) if numeros % 2 != 0]\n",
    "\n",
    "    return sum(im_num)\n",
    "\n",
    " \n",
    "\n",
    "res = sum_par()\n",
    "\n",
    "print(res)\n",
    "\n"
   ]
  },
  {
   "cell_type": "code",
   "execution_count": 12,
   "metadata": {},
   "outputs": [
    {
     "name": "stdout",
     "output_type": "stream",
     "text": [
      "[2, 2, 0, 0, 3, 3, 3, 2, 1]\n",
      "[0, 1, 2, 3]\n"
     ]
    }
   ],
   "source": [
    "#Funcion eliminar duplicados en una lista\n",
    "import random\n",
    "def elim_dup(lista):\n",
    "    return list(set(lista))\n",
    " \n",
    "lista = [random.randint(0,3) for i in range(0,9)]\n",
    "x = lista\n",
    "print(x)\n",
    "print(elim_dup(x))\n",
    " \n"
   ]
  },
  {
   "cell_type": "code",
   "execution_count": 13,
   "metadata": {},
   "outputs": [
    {
     "name": "stdout",
     "output_type": "stream",
     "text": [
      "[3, 4, 5, 5, 3, 3, 3, 2, 0]\n",
      "El elemento 2 esta en la posición 7\n"
     ]
    }
   ],
   "source": [
    "#Funcion para buscar un elemento en una lista\n",
    "def busqueda(lista,elem):\n",
    "    for pos, val in enumerate(lista):\n",
    "        if val == elem:\n",
    "            return pos\n",
    "    return False\n",
    " \n",
    "lista = [random.randint(0,5) for i in range(0,9)]\n",
    "print(lista)\n",
    "elem = 2\n",
    "pos = busqueda(lista,elem)\n",
    "if pos != False:\n",
    "    print(f\"El elemento {elem} esta en la posición {pos}\")\n",
    "else:\n",
    "    print(\"Elemento no encontrado\")\n",
    " "
   ]
  },
  {
   "cell_type": "code",
   "execution_count": 15,
   "metadata": {},
   "outputs": [
    {
     "name": "stdout",
     "output_type": "stream",
     "text": [
      "120\n"
     ]
    }
   ],
   "source": [
    "#funcion que calcule el factorial de un numero\n",
    "def fact(numero):\n",
    "    factorial = 1\n",
    "    for i in range(1,numero+1):\n",
    "        factorial *= i\n",
    "    return factorial\n",
    " \n",
    "numero = 5\n",
    "x = fact(numero)\n",
    "print(x)"
   ]
  },
  {
   "cell_type": "code",
   "execution_count": 14,
   "metadata": {},
   "outputs": [
    {
     "name": "stdout",
     "output_type": "stream",
     "text": [
      "[3, 3, 0, 0, 1, 3, 0, 0, 3]\n",
      "{3: 4, 0: 4, 1: 1}\n"
     ]
    }
   ],
   "source": [
    "#Funcion que cuenta la frecuencia de una lista\n",
    "import random\n",
    "def frecuencia(lita):\n",
    "    frec = {}\n",
    "    for elem in lista:\n",
    "        if elem in frec:\n",
    "            frec[elem] += 1\n",
    "        else:\n",
    "            frec[elem] = 1\n",
    "    return frec\n",
    " \n",
    "lista = [random.randint(0,3) for i in range(0,9)]\n",
    "print(lista)\n",
    "frec_elem = frecuencia(lista)\n",
    "print(frec_elem)"
   ]
  }
 ],
 "metadata": {
  "kernelspec": {
   "display_name": "Python 3",
   "language": "python",
   "name": "python3"
  },
  "language_info": {
   "codemirror_mode": {
    "name": "ipython",
    "version": 3
   },
   "file_extension": ".py",
   "mimetype": "text/x-python",
   "name": "python",
   "nbconvert_exporter": "python",
   "pygments_lexer": "ipython3",
   "version": "3.10.13"
  }
 },
 "nbformat": 4,
 "nbformat_minor": 2
}
